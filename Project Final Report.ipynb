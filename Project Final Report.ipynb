{
 "cells": [
  {
   "cell_type": "markdown",
   "id": "a429af8a-3ef7-4dc0-9887-b9c5c4cd7108",
   "metadata": {},
   "source": [
    "# Predicting whether a player is likely to contribute a large amount of data #"
   ]
  },
  {
   "cell_type": "markdown",
   "id": "49188bff-2d52-4e58-90a9-1c84dd488027",
   "metadata": {},
   "source": [
    "## Introduction ##"
   ]
  },
  {
   "cell_type": "markdown",
   "id": "c94bb61f-8df2-4b6a-a1e1-b90d14613eba",
   "metadata": {},
   "source": [
    "## Methods & Results ##"
   ]
  },
  {
   "cell_type": "markdown",
   "id": "d056a5ca-0d2f-4c00-aaa3-ad97c7a82b31",
   "metadata": {},
   "source": [
    "## Discussion ##"
   ]
  },
  {
   "cell_type": "markdown",
   "id": "6ab0026f-5608-4af6-85d9-07157564dd60",
   "metadata": {},
   "source": [
    "## References ##"
   ]
  },
  {
   "cell_type": "code",
   "execution_count": null,
   "id": "a7f08f36-2906-43a3-a771-b6552cb227c6",
   "metadata": {},
   "outputs": [],
   "source": []
  }
 ],
 "metadata": {
  "kernelspec": {
   "display_name": "Python 3 (ipykernel)",
   "language": "python",
   "name": "python3"
  },
  "language_info": {
   "codemirror_mode": {
    "name": "ipython",
    "version": 3
   },
   "file_extension": ".py",
   "mimetype": "text/x-python",
   "name": "python",
   "nbconvert_exporter": "python",
   "pygments_lexer": "ipython3",
   "version": "3.11.9"
  }
 },
 "nbformat": 4,
 "nbformat_minor": 5
}
